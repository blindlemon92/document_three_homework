{
 "cells": [
  {
   "cell_type": "code",
   "execution_count": 4,
   "id": "e90578b8",
   "metadata": {},
   "outputs": [
    {
     "name": "stdout",
     "output_type": "stream",
     "text": [
      "My favorite truck is a 2018 Chevrolet Silverado\n"
     ]
    }
   ],
   "source": [
    "# Hello! I didn't understand until just recently what you meant by saying\n",
    "# I could use the file from class (I missed the attachment for it at the end of the page).\n",
    "# Moving forward I will use the class file. Thank you!\n",
    "\n",
    "\n",
    "# In class exercise #1\n",
    "# Output should be \"2018 Chevrolet Silverado\"\n",
    "\n",
    "truck = {\n",
    "    'year': 2018,\n",
    "    'make': 'Chevrolet',\n",
    "    'model': 'Silverado',\n",
    "}\n",
    "\n",
    "print('My favorite truck is a {} {} {}'.format(truck['year'], truck['make'], truck['model']))"
   ]
  },
  {
   "cell_type": "code",
   "execution_count": 7,
   "id": "08ecb44f",
   "metadata": {},
   "outputs": [
    {
     "name": "stdout",
     "output_type": "stream",
     "text": [
      "Max has blue eyes\n",
      "Lilly has brown eyes\n",
      "Barney has blue eyes\n",
      "Larney has brown eyes\n",
      "Ted has purple eyes\n"
     ]
    }
   ],
   "source": [
    "# In class exercise #2\n",
    "\n",
    "# Output should be:\n",
    "#     Max has blue eyes\n",
    "#     Lilly has brown eyes\n",
    "#     Barney has blue eyes\n",
    "#     etc.\n",
    "\n",
    "def all_pairs(people):\n",
    "    for key, value in people.items():\n",
    "        print(\"{} has {} eyes\".format(key, value))\n",
    "    \n",
    "all_pairs({'Max': 'blue', 'Lilly': 'brown', 'Barney': 'blue', 'Larney': 'brown', 'Ted': 'purple',})"
   ]
  },
  {
   "cell_type": "code",
   "execution_count": 35,
   "id": "77b6ac26",
   "metadata": {},
   "outputs": [
    {
     "name": "stdout",
     "output_type": "stream",
     "text": [
      "What is your name? Jessie\n",
      "Where do you live... and let's get specific. (q to quit) That's quite an odd way to ask.\n",
      "What is your name? Um.... yeah it's me. Same Guy.. Jessie\n",
      "Where do you live... and let's get specific. (q to quit) Yeah, I'm totally weirded out now.\n",
      "What is your name? I'm leaving\n",
      "Where do you live... and let's get specific. (q to quit) q\n",
      "dict_items([('Jessie', \"That's quite an odd way to ask.\"), (\"Um.... yeah it's me. Same Guy.. Jessie\", \"Yeah, I'm totally weirded out now.\"), (\"I'm leaving\", '?')])\n"
     ]
    }
   ],
   "source": [
    "# In class exercise #3\n",
    "\n",
    "def who_where():\n",
    "    empty_dict = {}\n",
    "    key = 0\n",
    "    while key == 0:\n",
    "        \n",
    "        who = input(\"What is your name? \")\n",
    "        where = input(\"Where do you live... and let's get specific. (q to quit) \")\n",
    "        \n",
    "        \n",
    "        \n",
    "        if where != 'q':\n",
    "            empty_dict[who] = where\n",
    "        else:\n",
    "            empty_dict[who] = \"?\"\n",
    "            key += 1\n",
    "        \n",
    "  \n",
    "         \n",
    "    \n",
    "    print(empty_dict.items())\n",
    "    \n",
    "    \n",
    " \n",
    "\n",
    "who_where()"
   ]
  },
  {
   "cell_type": "code",
   "execution_count": 56,
   "id": "159f8118",
   "metadata": {},
   "outputs": [
    {
     "name": "stdout",
     "output_type": "stream",
     "text": [
      "Welcome to our online cart!\n",
      " (if you're ready to shop press any key.. then press enter)a\n",
      "Add items to your cart here... \n",
      " (In order allow us to check our stock, please enter items one at a time)b\n",
      "\n",
      "Press 'v' to view current cart, 'a' to add more items, 'r' to remove items, or 'c' to check out c\n",
      "Thank you so much for shopping with us! You will now be redirected to our secure payment partner\n",
      "\n",
      "['b']\n"
     ]
    }
   ],
   "source": [
    "# Exercise 1 (shopping cart)\n",
    "\n",
    "def shop_till_ya_drop():\n",
    "    removed = []\n",
    "    cart = []\n",
    "    key = 0\n",
    "    greeting = input(\"Welcome to our online cart!\\n (if you're ready to shop press any key.. then press enter)\")\n",
    "    list = input(\"Add items to your cart here... \\n (In order allow us to check our stock, please enter items one at a time)\")\n",
    "    cart.append(list)\n",
    "    while key == 0:\n",
    "        keep_on = input(\"\\nPress 'v' to view current cart, 'a' to add more items, 'r' to remove items, or 'c' to check out \")\n",
    "        if keep_on == 'v':\n",
    "            print(cart)\n",
    "        elif keep_on == 'a':\n",
    "            ask = input(\"What else would you like to add? \")\n",
    "            cart.append(ask)\n",
    "        elif keep_on == 'c':\n",
    "            print(\"Thank you so much for shopping with us! You will now be redirected to our secure payment partner\\n\")\n",
    "            print(cart)\n",
    "            key += 1\n",
    "        elif keep_on == 'r':\n",
    "            take_away = input(\"Please enter the item you'd like to remove. \")\n",
    "            cart.remove(take_away)\n",
    "            \n",
    "            \n",
    "            \n",
    "            \n",
    "shop_till_ya_drop()\n"
   ]
  },
  {
   "cell_type": "code",
   "execution_count": 58,
   "id": "ebdfbb92",
   "metadata": {},
   "outputs": [
    {
     "data": {
      "text/plain": [
       "[1200]"
      ]
     },
     "execution_count": 58,
     "metadata": {},
     "output_type": "execute_result"
    }
   ],
   "source": [
    "# Exercise 2.a\n",
    "\n",
    "import ExerciseTwo\n",
    "\n",
    "whats_the_foots(30, 40)"
   ]
  },
  {
   "cell_type": "code",
   "execution_count": 62,
   "id": "d54941a4",
   "metadata": {},
   "outputs": [
    {
     "data": {
      "text/plain": [
       "[43.982297150257104]"
      ]
     },
     "execution_count": 62,
     "metadata": {},
     "output_type": "execute_result"
    }
   ],
   "source": [
    "# Exercise 2.b\n",
    "\n",
    "import ExerciseTwo\n",
    "\n",
    "round_round_round_i_been_around(7)"
   ]
  },
  {
   "cell_type": "code",
   "execution_count": null,
   "id": "02d13851",
   "metadata": {},
   "outputs": [],
   "source": []
  }
 ],
 "metadata": {
  "kernelspec": {
   "display_name": "Python 3 (ipykernel)",
   "language": "python",
   "name": "python3"
  },
  "language_info": {
   "codemirror_mode": {
    "name": "ipython",
    "version": 3
   },
   "file_extension": ".py",
   "mimetype": "text/x-python",
   "name": "python",
   "nbconvert_exporter": "python",
   "pygments_lexer": "ipython3",
   "version": "3.9.13"
  }
 },
 "nbformat": 4,
 "nbformat_minor": 5
}
